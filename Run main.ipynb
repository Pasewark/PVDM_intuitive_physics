{
 "cells": [
  {
   "cell_type": "code",
   "execution_count": 1,
   "id": "8d541b7d",
   "metadata": {},
   "outputs": [],
   "source": [
    "# due to use of vgg in lpips.py, lets switch to 3 channels for now\n",
    "# and once that works add in other data"
   ]
  },
  {
   "cell_type": "code",
   "execution_count": 1,
   "id": "ffc73972",
   "metadata": {},
   "outputs": [
    {
     "name": "stdout",
     "output_type": "stream",
     "text": [
      "2023-04-12 14:22:58.590108: I tensorflow/core/platform/cpu_feature_guard.cc:182] This TensorFlow binary is optimized to use available CPU instructions in performance-critical operations.\n",
      "To enable the following instructions: AVX2 FMA, in other operations, rebuild TensorFlow with the appropriate compiler flags.\n",
      "2023-04-12 14:22:59.053167: W tensorflow/compiler/tf2tensorrt/utils/py_utils.cc:38] TF-TRT Warning: Could not find TensorRT\n",
      "after multi\n",
      "[2023-04-12 14:22:59.980837] Namespace(exp='first_stage', seed=42, id='main', data='UCF101', batch_size=32, ds=4, pretrain_config='configs/autoencoder/base.yaml', diffusion_config='configs/latent-diffusion/ucf101-ldm-kl-3_res128.yaml', first_stage_folder='', first_model='', scale_lr=False, devicenum='0', n_gpus=1, device=device(type='cuda', index=0), ddconfig={'double_z': False, 'channels': 256, 'resolution': 64, 'timesteps': 15, 'skip': 1, 'in_channels': 3, 'out_ch': 3, 'num_res_blocks': 2, 'attn_resolutions': [], 'splits': 1}, embed_dim=4, lossconfig={'params': {'disc_start': 100000000}}, lr=0.0001, res=64, timesteps=15, skip=1, resume=False, amp=True)\n",
      "[2023-04-12 14:22:59.980879] Log path: ./results/first_stage_main_UCF101_42/\n",
      "[2023-04-12 14:22:59.980886] Loading dataset UCF101 with resolution 64\n",
      "[2023-04-12 14:22:59.980892] Generating model\n",
      "/home/eric/.local/lib/python3.10/site-packages/torchvision/models/_utils.py:208: UserWarning: The parameter 'pretrained' is deprecated since 0.13 and may be removed in the future, please use 'weights' instead.\n",
      "  warnings.warn(\n",
      "/home/eric/.local/lib/python3.10/site-packages/torchvision/models/_utils.py:223: UserWarning: Arguments other than a weight enum or `None` for 'weights' are deprecated since 0.13 and may be removed in the future. The current behavior is equivalent to passing `weights=VGG16_Weights.IMAGENET1K_V1`. You can also use `weights=VGG16_Weights.DEFAULT` to get the most up-to-date weights.\n",
      "  warnings.warn(msg)\n",
      "loaded pretrained LPIPS loss from ./losses/vgg.pth\n",
      "2023-04-12 14:23:01.832284: I tensorflow/compiler/xla/stream_executor/cuda/cuda_gpu_executor.cc:996] successful NUMA node read from SysFS had negative value (-1), but there must be at least one NUMA node, so returning NUMA node zero. See more at https://github.com/torvalds/linux/blob/v6.0/Documentation/ABI/testing/sysfs-bus-pci#L344-L355\n",
      "2023-04-12 14:23:01.832480: I tensorflow/compiler/xla/stream_executor/cuda/cuda_gpu_executor.cc:996] successful NUMA node read from SysFS had negative value (-1), but there must be at least one NUMA node, so returning NUMA node zero. See more at https://github.com/torvalds/linux/blob/v6.0/Documentation/ABI/testing/sysfs-bus-pci#L344-L355\n",
      "2023-04-12 14:23:01.833486: I tensorflow/compiler/xla/stream_executor/cuda/cuda_gpu_executor.cc:996] successful NUMA node read from SysFS had negative value (-1), but there must be at least one NUMA node, so returning NUMA node zero. See more at https://github.com/torvalds/linux/blob/v6.0/Documentation/ABI/testing/sysfs-bus-pci#L344-L355\n",
      "2023-04-12 14:23:01.833637: I tensorflow/compiler/xla/stream_executor/cuda/cuda_gpu_executor.cc:996] successful NUMA node read from SysFS had negative value (-1), but there must be at least one NUMA node, so returning NUMA node zero. See more at https://github.com/torvalds/linux/blob/v6.0/Documentation/ABI/testing/sysfs-bus-pci#L344-L355\n",
      "2023-04-12 14:23:01.833773: I tensorflow/compiler/xla/stream_executor/cuda/cuda_gpu_executor.cc:996] successful NUMA node read from SysFS had negative value (-1), but there must be at least one NUMA node, so returning NUMA node zero. See more at https://github.com/torvalds/linux/blob/v6.0/Documentation/ABI/testing/sysfs-bus-pci#L344-L355\n",
      "2023-04-12 14:23:01.833906: I tensorflow/compiler/xla/stream_executor/cuda/cuda_gpu_executor.cc:996] successful NUMA node read from SysFS had negative value (-1), but there must be at least one NUMA node, so returning NUMA node zero. See more at https://github.com/torvalds/linux/blob/v6.0/Documentation/ABI/testing/sysfs-bus-pci#L344-L355\n",
      "Fail to load scalers. Start from initial point.\n",
      "2023-04-12 14:23:01.909946: I tensorflow/core/common_runtime/executor.cc:1197] [/device:CPU:0] (DEBUG INFO) Executor start aborting (this does not indicate an error and you can ignore this message): INVALID_ARGUMENT: You must feed a value for placeholder tensor 'Placeholder/_0' with dtype string and shape [100]\n",
      "\t [[{{node Placeholder/_0}}]]\n",
      "2023-04-12 14:23:01.910061: I tensorflow/core/common_runtime/executor.cc:1197] [/device:CPU:0] (DEBUG INFO) Executor start aborting (this does not indicate an error and you can ignore this message): INVALID_ARGUMENT: You must feed a value for placeholder tensor 'Placeholder/_0' with dtype string and shape [100]\n",
      "\t [[{{node Placeholder/_0}}]]\n",
      "2023-04-12 14:23:02.014026: W tensorflow/tsl/platform/cloud/google_auth_provider.cc:184] All attempts to get a Google authentication bearer token failed, returning an empty token. Retrieving token from files failed with \"NOT_FOUND: Could not locate the credentials file.\". Retrieving token from GCE failed with \"FAILED_PRECONDITION: Error executing an HTTP request: libcurl code 6 meaning 'Couldn't resolve host name', error details: Could not resolve host: metadata.google.internal\".\n",
      "/home/eric/Documents/Diffusion/intuitive_physics_pvdm/tools/trainer.py:152: UserWarning: The given NumPy array is not writable, and PyTorch does not support non-writable tensors. This means writing to this tensor will result in undefined behavior. You may want to copy the array to protect its data or make it writable before converting it to a tensor. This type of warning will be suppressed for the rest of this program. (Triggered internally at ../torch/csrc/utils/tensor_numpy.cpp:206.)\n",
      "  vid=torch.from_numpy(full_data['image']).permute(0,3,1,2).type(torch.float32)\n",
      "[2023-04-12 14:23:08.486530] [Time 6.652] [AELoss 2.092563] [DLoss 0.000000]\n",
      "2023-04-12 14:35:09.166226: E tensorflow/tsl/platform/cloud/curl_http_request.cc:610] The transmission  of request 0x7f9d5c17d150 (URI: https://storage.googleapis.com/physical_concepts/freeform%2Ftrain%2Fdata.tfrecord-00014-of-00100) has been stuck at 0 of 0 bytes for 61 seconds and will be aborted. CURL timing information: lookup time: 0.000491 (No error), connect time: 0 (No error), pre-transfer time: 0 (No error), start-transfer time: 0 (No error)\n",
      "[2023-04-12 14:40:33.467420] [Time 1051.633] [AELoss 0.883276] [DLoss 0.000000]\n",
      "2023-04-12 14:47:31.118910: E tensorflow/tsl/platform/cloud/curl_http_request.cc:610] The transmission  of request 0x7f9d5c1a0a00 (URI: https://storage.googleapis.com/physical_concepts/freeform%2Ftrain%2Fdata.tfrecord-00030-of-00100) has been stuck at 0 of 0 bytes for 61 seconds and will be aborted. CURL timing information: lookup time: 0.014259 (No error), connect time: 0 (No error), pre-transfer time: 0 (No error), start-transfer time: 0 (No error)\n",
      "[2023-04-12 14:56:07.728036] [Time 1985.894] [AELoss 0.671211] [DLoss 0.000000]\n",
      "[2023-04-12 15:11:35.293353] [Time 2913.459] [AELoss 0.559799] [DLoss 0.000000]\n",
      "2023-04-12 15:25:31.486171: E tensorflow/tsl/platform/cloud/curl_http_request.cc:610] The transmission  of request 0x7f9d5c1eb6b0 (URI: https://storage.googleapis.com/physical_concepts/freeform%2Ftrain%2Fdata.tfrecord-00084-of-00100) has been stuck at 0 of 0 bytes for 61 seconds and will be aborted. CURL timing information: lookup time: 0.000494 (No error), connect time: 0 (No error), pre-transfer time: 0 (No error), start-transfer time: 0 (No error)\n",
      "[2023-04-12 15:27:03.451925] [Time 3841.618] [AELoss 0.489847] [DLoss 0.000000]\n",
      "Traceback (most recent call last):\n",
      "  File \"/home/eric/Documents/Diffusion/intuitive_physics_pvdm/main.py\", line 96, in <module>\n",
      "    main()\n",
      "  File \"/home/eric/Documents/Diffusion/intuitive_physics_pvdm/main.py\", line 88, in main\n",
      "    first_stage(rank=int(args.devicenum), args=args)\n",
      "  File \"/home/eric/Documents/Diffusion/intuitive_physics_pvdm/exps/first_stage.py\", line 134, in first_stage\n",
      "    first_stage_train(rank, model, opt, d_opt, criterion, train_loader, test_loader, args.first_model, fp, logger)\n",
      "  File \"/home/eric/Documents/Diffusion/intuitive_physics_pvdm/tools/trainer.py\", line 322, in first_stage_train\n",
      "    for step,data in enumerate(torch_dataset):\n",
      "  File \"/home/eric/Documents/Diffusion/intuitive_physics_pvdm/tools/trainer.py\", line 149, in __iter__\n",
      "    full_data=next(self.data)\n",
      "  File \"/home/eric/.local/lib/python3.10/site-packages/tensorflow/python/data/ops/dataset_ops.py\", line 4662, in __next__\n",
      "    return nest.map_structure(to_numpy, next(self._iterator))\n",
      "  File \"/home/eric/.local/lib/python3.10/site-packages/tensorflow/python/data/ops/iterator_ops.py\", line 797, in __next__\n",
      "    return self._next_internal()\n",
      "  File \"/home/eric/.local/lib/python3.10/site-packages/tensorflow/python/data/ops/iterator_ops.py\", line 780, in _next_internal\n",
      "    ret = gen_dataset_ops.iterator_get_next(\n",
      "  File \"/home/eric/.local/lib/python3.10/site-packages/tensorflow/python/ops/gen_dataset_ops.py\", line 3016, in iterator_get_next\n",
      "    _ops.raise_from_not_ok_status(e, name)\n",
      "  File \"/home/eric/.local/lib/python3.10/site-packages/tensorflow/python/framework/ops.py\", line 7262, in raise_from_not_ok_status\n",
      "    raise core._status_to_exception(e) from None  # pylint: disable=protected-access\n",
      "tensorflow.python.framework.errors_impl.FailedPreconditionError: {{function_node __wrapped__IteratorGetNext_output_types_3_device_/job:localhost/replica:0/task:0/device:CPU:0}} Error executing an HTTP request: libcurl code 6 meaning 'Couldn't resolve host name', error details: Could not resolve host: storage.googleapis.com\n",
      "\t when reading gs://physical_concepts/freeform/train/data.tfrecord-00092-of-00100 [Op:IteratorGetNext]\n"
     ]
    }
   ],
   "source": [
    "! python main.py \\\n",
    " --exp first_stage \\\n",
    " --id main \\\n",
    " --pretrain_config configs/autoencoder/base.yaml \\\n",
    " --data UCF101 \\\n",
    " --batch_size 32"
   ]
  },
  {
   "cell_type": "code",
   "execution_count": null,
   "id": "a687309b",
   "metadata": {},
   "outputs": [
    {
     "name": "stdout",
     "output_type": "stream",
     "text": [
      "2023-04-11 17:33:07.125481: I tensorflow/core/platform/cpu_feature_guard.cc:182] This TensorFlow binary is optimized to use available CPU instructions in performance-critical operations.\n",
      "To enable the following instructions: AVX2 FMA, in other operations, rebuild TensorFlow with the appropriate compiler flags.\n",
      "2023-04-11 17:33:07.574533: W tensorflow/compiler/tf2tensorrt/utils/py_utils.cc:38] TF-TRT Warning: Could not find TensorRT\n",
      "after multi\n",
      "[2023-04-11 17:33:08.473961] Namespace(exp='first_stage', seed=42, id='main', data='UCF101', batch_size=64, ds=4, pretrain_config='configs/autoencoder/base.yaml', diffusion_config='configs/latent-diffusion/ucf101-ldm-kl-3_res128.yaml', first_stage_folder='', first_model='', scale_lr=False, devicenum='0', n_gpus=1, device=device(type='cuda', index=0), ddconfig={'double_z': False, 'channels': 256, 'resolution': 64, 'timesteps': 15, 'skip': 1, 'in_channels': 3, 'out_ch': 3, 'num_res_blocks': 2, 'attn_resolutions': [], 'splits': 1}, embed_dim=4, lossconfig={'params': {'disc_start': 100000000}}, lr=0.0001, res=64, timesteps=15, skip=1, resume=False, amp=True)\n",
      "[2023-04-11 17:33:08.474001] Log path: ./results/first_stage_main_UCF101_42/\n",
      "[2023-04-11 17:33:08.474008] Loading dataset UCF101 with resolution 64\n",
      "[2023-04-11 17:33:08.474014] Generating model\n",
      "/home/eric/.local/lib/python3.10/site-packages/torchvision/models/_utils.py:208: UserWarning: The parameter 'pretrained' is deprecated since 0.13 and may be removed in the future, please use 'weights' instead.\n",
      "  warnings.warn(\n",
      "/home/eric/.local/lib/python3.10/site-packages/torchvision/models/_utils.py:223: UserWarning: Arguments other than a weight enum or `None` for 'weights' are deprecated since 0.13 and may be removed in the future. The current behavior is equivalent to passing `weights=VGG16_Weights.IMAGENET1K_V1`. You can also use `weights=VGG16_Weights.DEFAULT` to get the most up-to-date weights.\n",
      "  warnings.warn(msg)\n",
      "loaded pretrained LPIPS loss from ./losses/vgg.pth\n",
      "2023-04-11 17:33:10.303865: I tensorflow/compiler/xla/stream_executor/cuda/cuda_gpu_executor.cc:996] successful NUMA node read from SysFS had negative value (-1), but there must be at least one NUMA node, so returning NUMA node zero. See more at https://github.com/torvalds/linux/blob/v6.0/Documentation/ABI/testing/sysfs-bus-pci#L344-L355\n",
      "2023-04-11 17:33:10.304038: I tensorflow/compiler/xla/stream_executor/cuda/cuda_gpu_executor.cc:996] successful NUMA node read from SysFS had negative value (-1), but there must be at least one NUMA node, so returning NUMA node zero. See more at https://github.com/torvalds/linux/blob/v6.0/Documentation/ABI/testing/sysfs-bus-pci#L344-L355\n",
      "2023-04-11 17:33:10.305047: I tensorflow/compiler/xla/stream_executor/cuda/cuda_gpu_executor.cc:996] successful NUMA node read from SysFS had negative value (-1), but there must be at least one NUMA node, so returning NUMA node zero. See more at https://github.com/torvalds/linux/blob/v6.0/Documentation/ABI/testing/sysfs-bus-pci#L344-L355\n",
      "2023-04-11 17:33:10.305211: I tensorflow/compiler/xla/stream_executor/cuda/cuda_gpu_executor.cc:996] successful NUMA node read from SysFS had negative value (-1), but there must be at least one NUMA node, so returning NUMA node zero. See more at https://github.com/torvalds/linux/blob/v6.0/Documentation/ABI/testing/sysfs-bus-pci#L344-L355\n",
      "2023-04-11 17:33:10.305354: I tensorflow/compiler/xla/stream_executor/cuda/cuda_gpu_executor.cc:996] successful NUMA node read from SysFS had negative value (-1), but there must be at least one NUMA node, so returning NUMA node zero. See more at https://github.com/torvalds/linux/blob/v6.0/Documentation/ABI/testing/sysfs-bus-pci#L344-L355\n",
      "2023-04-11 17:33:10.305500: I tensorflow/compiler/xla/stream_executor/cuda/cuda_gpu_executor.cc:996] successful NUMA node read from SysFS had negative value (-1), but there must be at least one NUMA node, so returning NUMA node zero. See more at https://github.com/torvalds/linux/blob/v6.0/Documentation/ABI/testing/sysfs-bus-pci#L344-L355\n",
      "Fail to load scalers. Start from initial point.\n",
      "2023-04-11 17:33:10.380986: I tensorflow/core/common_runtime/executor.cc:1197] [/device:CPU:0] (DEBUG INFO) Executor start aborting (this does not indicate an error and you can ignore this message): INVALID_ARGUMENT: You must feed a value for placeholder tensor 'Placeholder/_0' with dtype string and shape [100]\n",
      "\t [[{{node Placeholder/_0}}]]\n",
      "2023-04-11 17:33:10.381107: I tensorflow/core/common_runtime/executor.cc:1197] [/device:CPU:0] (DEBUG INFO) Executor start aborting (this does not indicate an error and you can ignore this message): INVALID_ARGUMENT: You must feed a value for placeholder tensor 'Placeholder/_0' with dtype string and shape [100]\n",
      "\t [[{{node Placeholder/_0}}]]\n",
      "2023-04-11 17:33:10.486103: W tensorflow/tsl/platform/cloud/google_auth_provider.cc:184] All attempts to get a Google authentication bearer token failed, returning an empty token. Retrieving token from files failed with \"NOT_FOUND: Could not locate the credentials file.\". Retrieving token from GCE failed with \"FAILED_PRECONDITION: Error executing an HTTP request: libcurl code 6 meaning 'Couldn't resolve host name', error details: Could not resolve host: metadata.google.internal\".\n",
      "/home/eric/Documents/Diffusion/intuitive_physics_pvdm/tools/trainer.py:152: UserWarning: The given NumPy array is not writable, and PyTorch does not support non-writable tensors. This means writing to this tensor will result in undefined behavior. You may want to copy the array to protect its data or make it writable before converting it to a tensor. This type of warning will be suppressed for the rest of this program. (Triggered internally at ../torch/csrc/utils/tensor_numpy.cpp:206.)\n",
      "  vid=torch.from_numpy(full_data['image']).permute(0,3,1,2).type(torch.float32)\n",
      "[2023-04-11 17:33:16.785062] [Time 6.479] [AELoss 2.156397] [DLoss 0.000000]\n",
      "[2023-04-11 17:38:26.965697] [Time 316.660] [AELoss 0.960031] [DLoss 0.000000]\n",
      "[2023-04-11 17:43:09.421436] [Time 599.116] [AELoss 0.753575] [DLoss 0.000000]\n"
     ]
    }
   ],
   "source": [
    "! python main.py \\\n",
    " --exp first_stage \\\n",
    " --id main \\\n",
    " --pretrain_config configs/autoencoder/base.yaml \\\n",
    " --data UCF101 \\\n",
    " --batch_size 8"
   ]
  }
 ],
 "metadata": {
  "kernelspec": {
   "display_name": "Python 3 (ipykernel)",
   "language": "python",
   "name": "python3"
  },
  "language_info": {
   "codemirror_mode": {
    "name": "ipython",
    "version": 3
   },
   "file_extension": ".py",
   "mimetype": "text/x-python",
   "name": "python",
   "nbconvert_exporter": "python",
   "pygments_lexer": "ipython3",
   "version": "3.10.6"
  }
 },
 "nbformat": 4,
 "nbformat_minor": 5
}
